{
 "cells": [
  {
   "cell_type": "markdown",
   "id": "resident-snowboard",
   "metadata": {},
   "source": [
    "# 2일차 수업 : 파이썬의 기본문법"
   ]
  },
  {
   "cell_type": "markdown",
   "id": "organized-angel",
   "metadata": {},
   "source": [
    "### Jupyter Notebook 사용벙\n",
    "- 셀의 개념\n",
    "- Code 와 Markdown 모드의 변경 : \n",
    "  * ESC(명령모드상태에서) m을 누르면 Markdwon  \n",
    "  * y를 누르면 Code상태로 Toggle 된다.  \n",
    "* 셀의 실행 :   \n",
    "  * Ctrl + Enter -> 실행만 하는 것  \n",
    "    * 색깔이 바뀜\n",
    "  * Shift + Ejnter -> 실행 후 아래셀로 이동 (없으면 셀을 새로 만들고 이동)  \n",
    "  * Alt + Enter -> 실행 후 아래셀로 이동  \n",
    "셀의 추가 : a -> 기준 셀의 위  \n",
    "b -> 기준 셀의 아래  \n",
    "줄을 바꾸기 위에서는 Markdown 양식은 한 줄로 나옴, 줄 바꿈 처리를 하려면 행의 끝에 space 두번 (두번의 공백이 있어야지 줄바꿈이 됨)  "
   ]
  },
  {
   "cell_type": "markdown",
   "id": "assisted-beaver",
   "metadata": {},
   "source": [
    "# 제목 1\n",
    "## 제목 2\n",
    "### 제목 3\n",
    "#### 제목 4\n",
    "##### 제목 5"
   ]
  },
  {
   "cell_type": "markdown",
   "id": "better-blake",
   "metadata": {},
   "source": [
    "## 1. print() 함수의 활용\n",
    "파이썬에서 출력을 위해서는 print()함수를 사용한다.  \n",
    "```python\n",
    "print(\"문자열\")  \n",
    "print(수식)  \n",
    "print(숫자값) \n",
    "```\n",
    "아래 셀에서 실습을 해보자"
   ]
  },
  {
   "cell_type": "code",
   "execution_count": null,
   "id": "tender-fancy",
   "metadata": {},
   "outputs": [],
   "source": [
    "print(\"Hello\")\n",
    "print('Python')"
   ]
  },
  {
   "cell_type": "markdown",
   "id": "addressed-helen",
   "metadata": {},
   "source": [
    "## 2. 파이썬의 주석  \n",
    "파인썬의 주석은 행단위의 주석과 블럭단위의 주석이 있다.  \n",
    "-  행단위의 주석  \n",
    "```python\n",
    "# 이 코드는 행 단위의 주석을 설명합니다.\n",
    "print(\"Hello Python\") # 요기도 주석입니다.\n",
    "# print(\"Hello Python\")\n",
    "```\n",
    "\n",
    "행의 맨 앞에 # 기호가 붙으면 그 행 전체는 주석으로 처리하여 실행하지 않는다.  \n",
    "코드의 중간에서 # 기호를 넣으면 그 뒤는 주석으로 처리한다.\n",
    "\n",
    "- 블럭단위 주석\n",
    "```python\n",
    "# 주석 1\n",
    "# 주석 2\n",
    "# 주석 3\n",
    "print(\"Hello\")\n",
    "```"
   ]
  },
  {
   "cell_type": "code",
   "execution_count": 1,
   "id": "sealed-tuesday",
   "metadata": {},
   "outputs": [
    {
     "name": "stdout",
     "output_type": "stream",
     "text": [
      "Hello Python\n"
     ]
    }
   ],
   "source": [
    "# 이 코드는 행 단위의 주석을 설명합니다.\n",
    "print(\"Hello Python\") # 요기도 주석입니다.\n",
    "# print(\"Hello Python\")"
   ]
  },
  {
   "cell_type": "code",
   "execution_count": 2,
   "id": "structured-bradford",
   "metadata": {},
   "outputs": [
    {
     "name": "stdout",
     "output_type": "stream",
     "text": [
      "Hello Python\n",
      "Hello Python\n"
     ]
    }
   ],
   "source": [
    "# 이 코드는 행 단위의 주석을 설명합니다.\n",
    "print(\"Hello Python\") # 요기도 주석입니다.\n",
    "print(\"Hello Python\")"
   ]
  },
  {
   "cell_type": "code",
   "execution_count": null,
   "id": "electrical-handbook",
   "metadata": {},
   "outputs": [],
   "source": []
  }
 ],
 "metadata": {
  "kernelspec": {
   "display_name": "Python 3",
   "language": "python",
   "name": "python3"
  },
  "language_info": {
   "codemirror_mode": {
    "name": "ipython",
    "version": 3
   },
   "file_extension": ".py",
   "mimetype": "text/x-python",
   "name": "python",
   "nbconvert_exporter": "python",
   "pygments_lexer": "ipython3",
   "version": "3.9.2"
  }
 },
 "nbformat": 4,
 "nbformat_minor": 5
}
